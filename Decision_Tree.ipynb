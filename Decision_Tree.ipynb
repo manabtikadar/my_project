{
  "nbformat": 4,
  "nbformat_minor": 0,
  "metadata": {
    "colab": {
      "provenance": [],
      "authorship_tag": "ABX9TyO34z3zn5aDpYuliezw8Yv9",
      "include_colab_link": true
    },
    "kernelspec": {
      "name": "python3",
      "display_name": "Python 3"
    },
    "language_info": {
      "name": "python"
    }
  },
  "cells": [
    {
      "cell_type": "markdown",
      "metadata": {
        "id": "view-in-github",
        "colab_type": "text"
      },
      "source": [
        "<a href=\"https://colab.research.google.com/github/manabtikadar/my_project/blob/main/Decision_Tree.ipynb\" target=\"_parent\"><img src=\"https://colab.research.google.com/assets/colab-badge.svg\" alt=\"Open In Colab\"/></a>"
      ]
    },
    {
      "cell_type": "code",
      "execution_count": 3,
      "metadata": {
        "id": "FHipSwFO1X9L"
      },
      "outputs": [],
      "source": [
        "import numpy as np\n",
        "import matplotlib.pyplot as plt\n",
        "import pandas as pd"
      ]
    },
    {
      "cell_type": "code",
      "source": [
        "X_train = np.array([[1,1,1],[1,0,1],[1,0,0],[1,0,0],[1,1,1],[0,1,1],[0,0,0],[1,0,1],[0,1,0],[1,0,0]])\n",
        "y_train = np.array([1,1,0,0,1,0,0,1,1,0])"
      ],
      "metadata": {
        "id": "BDKda94w1yus"
      },
      "execution_count": 4,
      "outputs": []
    },
    {
      "cell_type": "code",
      "source": [
        "print(f\"first few elements\\n:{X_train[:5]}\")\n",
        "print(f\"X_train data type:{type(X_train)}\")"
      ],
      "metadata": {
        "colab": {
          "base_uri": "https://localhost:8080/"
        },
        "id": "ij-5orD02Bg6",
        "outputId": "f04b7654-a3ba-4d33-d8a2-bd666cf9f144"
      },
      "execution_count": 5,
      "outputs": [
        {
          "output_type": "stream",
          "name": "stdout",
          "text": [
            "first few elements\n",
            ":[[1 1 1]\n",
            " [1 0 1]\n",
            " [1 0 0]\n",
            " [1 0 0]\n",
            " [1 1 1]]\n",
            "X_train data type:<class 'numpy.ndarray'>\n"
          ]
        }
      ]
    },
    {
      "cell_type": "code",
      "source": [
        "print(f\"first few elements:{y_train[:5]}\")\n",
        "print(f\"y_train data type:{type(y_train)}\")"
      ],
      "metadata": {
        "colab": {
          "base_uri": "https://localhost:8080/"
        },
        "id": "L2-lx9KR23me",
        "outputId": "07333897-de22-42c9-ff91-fcb46d0d384f"
      },
      "execution_count": 6,
      "outputs": [
        {
          "output_type": "stream",
          "name": "stdout",
          "text": [
            "first few elements:[1 1 0 0 1]\n",
            "y_train data type:<class 'numpy.ndarray'>\n"
          ]
        }
      ]
    },
    {
      "cell_type": "code",
      "source": [
        "def calculate_entropy(y):\n",
        "    entropy = 0\n",
        "    if len(y) != 0:\n",
        "      p1 = len(y[y==1])/len(y)\n",
        "\n",
        "      if (p1!=0)&(p1!=1):\n",
        "         entropy = -p1*np.log2(p1)-(1-p1)*np.log2(1-p1)\n",
        "      else:\n",
        "         entropy = 0\n",
        "\n",
        "    return entropy"
      ],
      "metadata": {
        "id": "1UBstjEY3CHR"
      },
      "execution_count": 7,
      "outputs": []
    },
    {
      "cell_type": "code",
      "source": [
        "print(\"Entropy at root node: \", calculate_entropy(y_train))"
      ],
      "metadata": {
        "colab": {
          "base_uri": "https://localhost:8080/"
        },
        "id": "y2DngdTp47bm",
        "outputId": "c5d63711-cb0f-41b0-e4c2-03a5a04b963c"
      },
      "execution_count": 8,
      "outputs": [
        {
          "output_type": "stream",
          "name": "stdout",
          "text": [
            "Entropy at root node:  1.0\n"
          ]
        }
      ]
    },
    {
      "cell_type": "code",
      "source": [
        "def split_dataset(X, node_indices, feature):\n",
        "  m,n = X.shape\n",
        "  left_indices = []\n",
        "  right_indices = []\n",
        "\n",
        "  for i in range(m):\n",
        "    if X[i,feature] == 1:\n",
        "      left_indices.append(i)\n",
        "    else:\n",
        "      right_indices.append(i)\n",
        "\n",
        "  return left_indices,right_indices"
      ],
      "metadata": {
        "id": "xq8bs2Gx5C63"
      },
      "execution_count": 24,
      "outputs": []
    },
    {
      "cell_type": "code",
      "source": [
        "root_indices = [0, 1, 2, 3, 4, 5, 6, 7, 8, 9]\n",
        "\n",
        "left_indices, right_indices = split_dataset(X_train, root_indices, feature=2)\n",
        "\n",
        "print(\"left_indices:\",left_indices)\n",
        "print(\"right_indices:\",right_indices)"
      ],
      "metadata": {
        "colab": {
          "base_uri": "https://localhost:8080/"
        },
        "id": "8WfMJn4h6HtO",
        "outputId": "9eb8040f-5fb6-4536-9723-982e622b81e0"
      },
      "execution_count": 10,
      "outputs": [
        {
          "output_type": "stream",
          "name": "stdout",
          "text": [
            "left_indices: [0, 1, 4, 5, 7]\n",
            "right_indices: [2, 3, 6, 8, 9]\n"
          ]
        }
      ]
    },
    {
      "cell_type": "code",
      "source": [
        "def information_gain(X,y,node_indices,feature):\n",
        "  left_indices, right_indices = split_dataset(X,node_indices,feature)\n",
        "  left_entropy = calculate_entropy(y[left_indices])\n",
        "  right_entropy = calculate_entropy(y[right_indices])\n",
        "  node_entropy = calculate_entropy(y[node_indices])\n",
        "\n",
        "  information_gain = 0.0\n",
        "\n",
        "  w_left = len(left_indices)/len(node_indices)\n",
        "  w_right = len(right_indices)/len(node_indices)\n",
        "\n",
        "  information_gain = node_entropy -(w_left*left_entropy + w_right*right_entropy)\n",
        "\n",
        "  return information_gain"
      ],
      "metadata": {
        "id": "8yywpj2h7JEC"
      },
      "execution_count": 11,
      "outputs": []
    },
    {
      "cell_type": "code",
      "source": [
        "info_gain0 = information_gain(X_train, y_train, root_indices, feature=0)\n",
        "print(\"Information Gain from splitting the root on brown cap: \", info_gain0)\n",
        "\n",
        "info_gain1 = information_gain(X_train, y_train, root_indices, feature=1)\n",
        "print(\"Information Gain from splitting the root on tapering stalk shape: \", info_gain1)\n",
        "\n",
        "info_gain2 = information_gain(X_train, y_train, root_indices, feature=2)\n",
        "print(\"Information Gain from splitting the root on solitary: \", info_gain2)"
      ],
      "metadata": {
        "colab": {
          "base_uri": "https://localhost:8080/"
        },
        "id": "trAy4zrk9GeJ",
        "outputId": "21792bfb-58e3-42d6-e8ff-fcc206cafee9"
      },
      "execution_count": 12,
      "outputs": [
        {
          "output_type": "stream",
          "name": "stdout",
          "text": [
            "Information Gain from splitting the root on brown cap:  0.034851554559677034\n",
            "Information Gain from splitting the root on tapering stalk shape:  0.12451124978365313\n",
            "Information Gain from splitting the root on solitary:  0.2780719051126377\n"
          ]
        }
      ]
    },
    {
      "cell_type": "code",
      "source": [
        "def get_best_split(X,y,node_indices):\n",
        "  num_features = X.shape[1]\n",
        "  best_feature = -1\n",
        "  max_information_gain = 0\n",
        "\n",
        "  for feature in range(num_features):\n",
        "    information_gain_ = information_gain(X,y,node_indices,feature)\n",
        "    if information_gain_ > max_information_gain:\n",
        "      max_information_gain = information_gain_\n",
        "      best_feature = feature\n",
        "\n",
        "  return best_feature"
      ],
      "metadata": {
        "id": "u3hNffpPMrL1"
      },
      "execution_count": 20,
      "outputs": []
    },
    {
      "cell_type": "code",
      "source": [
        "best_feature = get_best_split(X_train, y_train, root_indices)\n",
        "print(\"Best feature to split on: %d\" % best_feature)"
      ],
      "metadata": {
        "colab": {
          "base_uri": "https://localhost:8080/"
        },
        "id": "YKZ58_W0N4GX",
        "outputId": "ef903e01-ff8f-4576-eddb-aeeefe3cf3df"
      },
      "execution_count": 21,
      "outputs": [
        {
          "output_type": "stream",
          "name": "stdout",
          "text": [
            "Best feature to split on: 2\n"
          ]
        }
      ]
    },
    {
      "cell_type": "code",
      "source": [
        "tree = []\n",
        "\n",
        "def build_tree_recursive(X, y, node_indices, branch_name, max_depth, current_depth):\n",
        "    \"\"\"\n",
        "    Build a tree using the recursive algorithm that split the dataset into 2 subgroups at each node.\n",
        "    This function just prints the tree.\n",
        "\n",
        "    Args:\n",
        "        X (ndarray):            Data matrix of shape(n_samples, n_features)\n",
        "        y (array like):         list or ndarray with n_samples containing the target variable\n",
        "        node_indices (ndarray): List containing the active indices. I.e, the samples being considered in this step.\n",
        "        branch_name (string):   Name of the branch. ['Root', 'Left', 'Right']\n",
        "        max_depth (int):        Max depth of the resulting tree.\n",
        "        current_depth (int):    Current depth. Parameter used during recursive call.\n",
        "\n",
        "    \"\"\"\n",
        "\n",
        "    # Maximum depth reached - stop splitting\n",
        "    if current_depth == max_depth:\n",
        "        formatting = \" \"*current_depth + \"-\"*current_depth\n",
        "        print(formatting, \"%s leaf node with indices\" % branch_name, node_indices)\n",
        "        return\n",
        "\n",
        "    # Otherwise, get best split and split the data\n",
        "    # Get the best feature and threshold at this node\n",
        "    best_feature = get_best_split(X, y, node_indices)\n",
        "    tree.append((current_depth, branch_name, best_feature, node_indices))\n",
        "\n",
        "    formatting = \"-\"*current_depth\n",
        "    print(\"%s Depth %d, %s: Split on feature: %d\" % (formatting, current_depth, branch_name, best_feature))\n",
        "\n",
        "    # Split the dataset at the best feature\n",
        "    left_indices, right_indices = split_dataset(X, node_indices, best_feature)\n",
        "\n",
        "    # continue splitting the left and the right child. Increment current depth\n",
        "    build_tree_recursive(X, y, left_indices, \"Left\", max_depth, current_depth+1)\n",
        "    build_tree_recursive(X, y, right_indices, \"Right\", max_depth, current_depth+1)"
      ],
      "metadata": {
        "id": "1Z2DP9L1QpCa"
      },
      "execution_count": 22,
      "outputs": []
    },
    {
      "cell_type": "code",
      "source": [
        "build_tree_recursive(X_train, y_train, root_indices, \"Root\", max_depth=2, current_depth=0)"
      ],
      "metadata": {
        "colab": {
          "base_uri": "https://localhost:8080/"
        },
        "id": "8G82w0WoQza7",
        "outputId": "015e332f-6a00-40b6-9b4c-6f4bd26c0885"
      },
      "execution_count": 27,
      "outputs": [
        {
          "output_type": "stream",
          "name": "stdout",
          "text": [
            " Depth 0, Root: Split on feature: 2\n",
            "- Depth 1, Left: Split on feature: -1\n",
            "  -- Left leaf node with indices [0, 1, 4, 5, 7]\n",
            "  -- Right leaf node with indices [2, 3, 6, 8, 9]\n",
            "- Depth 1, Right: Split on feature: -1\n",
            "  -- Left leaf node with indices [0, 1, 4, 5, 7]\n",
            "  -- Right leaf node with indices [2, 3, 6, 8, 9]\n"
          ]
        }
      ]
    }
  ]
}